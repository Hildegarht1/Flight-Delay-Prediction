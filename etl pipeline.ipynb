{
 "cells": [
  {
   "cell_type": "code",
   "execution_count": null,
   "id": "3ea169d4",
   "metadata": {},
   "outputs": [],
   "source": [
    "import pandas as pd\n",
    "\n",
    "def load_data(path):\n",
    "    df = pd.read_csv(path)\n",
    "    return df\n",
    "\n",
    "def clean_flight_data(df):\n",
    "    # Example: handle missing values, convert types\n",
    "    df = df.dropna(subset=['Distance','ScheduledTime','Delayed'])\n",
    "    df['Delayed'] = df['Delayed'].astype(int)\n",
    "    return df\n",
    "\n",
    "def clean_churn_data(df):\n",
    "    df = df.dropna()\n",
    "    df['Churn'] = df['Churn'].map({'Yes':1,'No':0})\n",
    "    return df\n"
   ]
  }
 ],
 "metadata": {
  "language_info": {
   "name": "python"
  }
 },
 "nbformat": 4,
 "nbformat_minor": 5
}
